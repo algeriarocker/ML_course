{
  "nbformat": 4,
  "nbformat_minor": 0,
  "metadata": {
    "colab": {
      "name": "lesson_3.ipynb",
      "provenance": []
    },
    "kernelspec": {
      "name": "python3",
      "display_name": "Python 3"
    },
    "language_info": {
      "name": "python"
    }
  },
  "cells": [
    {
      "cell_type": "code",
      "execution_count": 1,
      "metadata": {
        "colab": {
          "base_uri": "https://localhost:8080/"
        },
        "id": "UJd3Q7bNY_AH",
        "outputId": "b14e78a3-4d6c-4ee0-a901-502097184853"
      },
      "outputs": [
        {
          "output_type": "stream",
          "name": "stdout",
          "text": [
            "  first_name last_name  age preTestScore postTestScore\n",
            "0      Jason    Miller   42            4        25,000\n",
            "1      Molly  Jacobson   52           24        94,000\n",
            "2       Tina         .   36           31            57\n",
            "3       Jake    Milner   24            .            62\n",
            "4        Amy     Cooze   73            .            70\n"
          ]
        }
      ],
      "source": [
        "import pandas as pd\n",
        "raw_data = {'first_name': ['Jason', 'Molly', 'Tina', 'Jake', 'Amy'],\n",
        "        'last_name': ['Miller', 'Jacobson', \".\", 'Milner', 'Cooze'],\n",
        "        'age': [42, 52, 36, 24, 73],\n",
        "        'preTestScore': [4, 24, 31, \".\", \".\"],\n",
        "        'postTestScore': [\"25,000\", \"94,000\", 57, 62, 70]}\n",
        "df = pd.DataFrame(raw_data, columns = ['first_name', 'last_name', 'age', 'preTestScore', 'postTestScore'])\n",
        "print(df)"
      ]
    },
    {
      "cell_type": "code",
      "source": [
        "import pandas as pd\n",
        "raw_data = {'first_name': ['Jason', 'Molly', 'Tina', 'Jake', 'Amy'],\n",
        "        'last_name': ['Miller', 'Jacobson', \".\", 'Milner', 'Cooze'],\n",
        "        'age': [42, 52, 36, 24, 73],\n",
        "        'preTestScore': [4, 24, 31, \".\", \".\"],\n",
        "        'postTestScore': [\"25,000\", \"94,000\", 57, 62, 70]}\n",
        "df = pd.DataFrame(raw_data, columns = ['first_name', 'last_name', 'age', 'preTestScore', 'postTestScore'])\n",
        "df.to_csv('project.csv')"
      ],
      "metadata": {
        "id": "OrbOmAYWZIzi"
      },
      "execution_count": 2,
      "outputs": []
    },
    {
      "cell_type": "code",
      "source": [
        "import pandas as pd\n",
        "df = pd.read_csv('project.csv')\n",
        "print(df)"
      ],
      "metadata": {
        "colab": {
          "base_uri": "https://localhost:8080/"
        },
        "id": "MMQoldImZPeR",
        "outputId": "d0e4fb2b-296f-4bc5-dab9-6ce795621a53"
      },
      "execution_count": 3,
      "outputs": [
        {
          "output_type": "stream",
          "name": "stdout",
          "text": [
            "   Unnamed: 0 first_name last_name  age preTestScore postTestScore\n",
            "0           0      Jason    Miller   42            4        25,000\n",
            "1           1      Molly  Jacobson   52           24        94,000\n",
            "2           2       Tina         .   36           31            57\n",
            "3           3       Jake    Milner   24            .            62\n",
            "4           4        Amy     Cooze   73            .            70\n"
          ]
        }
      ]
    },
    {
      "cell_type": "code",
      "source": [
        "import pandas as pd\n",
        "df = pd.read_csv('project.csv', header=None)\n",
        "print(df)"
      ],
      "metadata": {
        "colab": {
          "base_uri": "https://localhost:8080/"
        },
        "id": "DnYoknLeZWKo",
        "outputId": "f89cfcd8-24db-441e-b41e-473fefa09b1c"
      },
      "execution_count": 4,
      "outputs": [
        {
          "output_type": "stream",
          "name": "stdout",
          "text": [
            "     0           1          2    3             4              5\n",
            "0  NaN  first_name  last_name  age  preTestScore  postTestScore\n",
            "1  0.0       Jason     Miller   42             4         25,000\n",
            "2  1.0       Molly   Jacobson   52            24         94,000\n",
            "3  2.0        Tina          .   36            31             57\n",
            "4  3.0        Jake     Milner   24             .             62\n",
            "5  4.0         Amy      Cooze   73             .             70\n"
          ]
        }
      ]
    },
    {
      "cell_type": "code",
      "source": [
        "import pandas as pd\n",
        "df = pd.read_csv('project.csv', index_col=['First Name', 'Last Name'], names=['UID', 'First Name', 'Last Name', 'Age', 'Pre-Test Score', 'Post-Test Score'])\n",
        "print(df)"
      ],
      "metadata": {
        "colab": {
          "base_uri": "https://localhost:8080/"
        },
        "id": "tL67fp2MZZvQ",
        "outputId": "1396b6c2-39e6-4946-b341-37e9ce99b2ed"
      },
      "execution_count": 5,
      "outputs": [
        {
          "output_type": "stream",
          "name": "stdout",
          "text": [
            "                      UID  Age Pre-Test Score Post-Test Score\n",
            "First Name Last Name                                         \n",
            "first_name last_name  NaN  age   preTestScore   postTestScore\n",
            "Jason      Miller     0.0   42              4          25,000\n",
            "Molly      Jacobson   1.0   52             24          94,000\n",
            "Tina       .          2.0   36             31              57\n",
            "Jake       Milner     3.0   24              .              62\n",
            "Amy        Cooze      4.0   73              .              70\n"
          ]
        }
      ]
    },
    {
      "cell_type": "code",
      "source": [
        "import pandas as pd\n",
        "df = pd.read_csv('project.csv', na_values=['.'])\n",
        "print(pd.isnull(df))"
      ],
      "metadata": {
        "colab": {
          "base_uri": "https://localhost:8080/"
        },
        "id": "5l6AsrJRZekU",
        "outputId": "9f21ebb1-9475-4156-e2cd-5eebfa933273"
      },
      "execution_count": 6,
      "outputs": [
        {
          "output_type": "stream",
          "name": "stdout",
          "text": [
            "   Unnamed: 0  first_name  last_name    age  preTestScore  postTestScore\n",
            "0       False       False      False  False         False          False\n",
            "1       False       False      False  False         False          False\n",
            "2       False       False       True  False         False          False\n",
            "3       False       False      False  False          True          False\n",
            "4       False       False      False  False          True          False\n"
          ]
        }
      ]
    },
    {
      "cell_type": "code",
      "source": [
        "import pandas as pd\n",
        "df = pd.read_csv('project.csv', skiprows=3)\n",
        "print(df)"
      ],
      "metadata": {
        "colab": {
          "base_uri": "https://localhost:8080/"
        },
        "id": "aPNDLhqRZiz3",
        "outputId": "5c0ef18d-82c9-4cc6-8e06-dc383c80fa2a"
      },
      "execution_count": 7,
      "outputs": [
        {
          "output_type": "stream",
          "name": "stdout",
          "text": [
            "   2  Tina       .  36 31  57\n",
            "0  3  Jake  Milner  24  .  62\n",
            "1  4   Amy   Cooze  73  .  70\n"
          ]
        }
      ]
    }
  ]
}