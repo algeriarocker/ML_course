{
  "nbformat": 4,
  "nbformat_minor": 0,
  "metadata": {
    "colab": {
      "name": "machine_learning_course.ipynb",
      "provenance": [],
      "authorship_tag": "ABX9TyMOX+gTy3FR6I8qz9IyJlJW"
    },
    "kernelspec": {
      "name": "python3",
      "display_name": "Python 3"
    }
  },
  "cells": [
    {
      "cell_type": "code",
      "metadata": {
        "id": "cyPXeo4hMqi7"
      },
      "source": [
        "# data exploration\n",
        "import pandas ,numpy ,seaborn\n",
        "#loading .csv in python\n",
        "df = pandas.read_csv(\"/content/sample_data/mnist_test.csv\")"
      ],
      "execution_count": null,
      "outputs": []
    },
    {
      "cell_type": "code",
      "source": [
        "#load data to csv\n",
        "d= {'col1': [1, 2], 'col2': [3, 4]}\n",
        "df = pandas.DataFrame(data=d)\n",
        "df.to_csv(\"/content/sample_data/mnist_test2.csv\")\n",
        "print(d)"
      ],
      "metadata": {
        "colab": {
          "base_uri": "https://localhost:8080/"
        },
        "id": "sgurq95ql1sR",
        "outputId": "2f689071-f5ea-4dcd-8c54-ef2950174dda"
      },
      "execution_count": null,
      "outputs": [
        {
          "output_type": "stream",
          "name": "stdout",
          "text": [
            "{'col1': [1, 2], 'col2': [3, 4]}\n"
          ]
        }
      ]
    },
    {
      "cell_type": "markdown",
      "source": [
        "# Nouvelle section"
      ],
      "metadata": {
        "id": "dHJ2DjWlazQY"
      }
    },
    {
      "cell_type": "code",
      "source": [
        "df= pandas.read_csv('/content/sample_data/california_housing_test.csv', delimiter = ',')\n",
        "rooms = numpy.array(df['total_rooms'])\n",
        "population = numpy.array(df['population'])\n",
        "age = numpy.array(df['housing_median_age'])\n",
        "print(rooms,population,age)\n",
        "print(df)"
      ],
      "metadata": {
        "colab": {
          "base_uri": "https://localhost:8080/"
        },
        "id": "BAC5hjPioVrO",
        "outputId": "e2d66628-6263-4d1c-d1e7-4cd6ddeb20e6"
      },
      "execution_count": null,
      "outputs": [
        {
          "output_type": "stream",
          "name": "stdout",
          "text": [
            "[3885. 1510. 3589. ...  956.   96. 1765.] [1537.  809. 1484. ...  693.   46.  753.] [27. 43. 27. ... 10. 40. 42.]\n",
            "      longitude  latitude  ...  median_income  median_house_value\n",
            "0       -122.05     37.37  ...         6.6085            344700.0\n",
            "1       -118.30     34.26  ...         3.5990            176500.0\n",
            "2       -117.81     33.78  ...         5.7934            270500.0\n",
            "3       -118.36     33.82  ...         6.1359            330000.0\n",
            "4       -119.67     36.33  ...         2.9375             81700.0\n",
            "...         ...       ...  ...            ...                 ...\n",
            "2995    -119.86     34.42  ...         1.1790            225000.0\n",
            "2996    -118.14     34.06  ...         3.3906            237200.0\n",
            "2997    -119.70     36.30  ...         2.2895             62000.0\n",
            "2998    -117.12     34.10  ...         3.2708            162500.0\n",
            "2999    -119.63     34.42  ...         8.5608            500001.0\n",
            "\n",
            "[3000 rows x 9 columns]\n"
          ]
        }
      ]
    },
    {
      "cell_type": "code",
      "source": [
        "#cour 3 data exploration\n",
        "df= pandas.read_csv('/content/sample_data/mtcars.csv', delimiter = ',')\n",
        "model = numpy.array(df['model'])\n",
        "hp = numpy.array(df['hp'])\n",
        "#average hourse power\n",
        "avhp = numpy.mean(hp)\n",
        "print(model,avhp)\n",
        "ns = df.iloc[1:3, 0:3]\n",
        "mean = df.mean()\n",
        "mode = df.mode(axis=1)\n",
        "print(ns, mean, mode)"
      ],
      "metadata": {
        "colab": {
          "base_uri": "https://localhost:8080/"
        },
        "id": "puazcPVrs3gR",
        "outputId": "3b62ef04-2c26-4863-d145-75ba046c061c"
      },
      "execution_count": null,
      "outputs": [
        {
          "output_type": "stream",
          "name": "stdout",
          "text": [
            "['Mazda RX4' 'Mazda RX4 Wag' 'Datsun 710' 'Hornet 4 Drive'\n",
            " 'Hornet Sportabout' 'Valiant' 'Duster 360' 'Merc 240D' 'Merc 230'\n",
            " 'Merc 280' 'Merc 280C' 'Merc 450SE' 'Merc 450SL' 'Merc 450SLC'\n",
            " 'Cadillac Fleetwood' 'Lincoln Continental' 'Chrysler Imperial' 'Fiat 128'\n",
            " 'Honda Civic' 'Toyota Corolla' 'Toyota Corona' 'Dodge Challenger'\n",
            " 'AMC Javelin' 'Camaro Z28' 'Pontiac Firebird' 'Fiat X1-9' 'Porsche 914-2'\n",
            " 'Lotus Europa' 'Ford Pantera L' 'Ferrari Dino' 'Maserati Bora'\n",
            " 'Volvo 142E'] 146.6875\n",
            "           model   mpg  cyl\n",
            "1  Mazda RX4 Wag  21.0    6\n",
            "2     Datsun 710  22.8    4 mpg      20.090625\n",
            "cyl       6.187500\n",
            "disp    230.721875\n",
            "hp      146.687500\n",
            "drat      3.596563\n",
            "wt        3.217250\n",
            "qsec     17.848750\n",
            "vs        0.437500\n",
            "am        0.406250\n",
            "gear      3.687500\n",
            "carb      2.812500\n",
            "dtype: float64                 0     1    2      3      4   ...    7    8    9    10   11\n",
            "0                4   NaN  NaN    NaN    NaN  ...   NaN  NaN  NaN  NaN  NaN\n",
            "1                4   NaN  NaN    NaN    NaN  ...   NaN  NaN  NaN  NaN  NaN\n",
            "2                1   NaN  NaN    NaN    NaN  ...   NaN  NaN  NaN  NaN  NaN\n",
            "3                1   NaN  NaN    NaN    NaN  ...   NaN  NaN  NaN  NaN  NaN\n",
            "4                0   NaN  NaN    NaN    NaN  ...   NaN  NaN  NaN  NaN  NaN\n",
            "5                1   NaN  NaN    NaN    NaN  ...   NaN  NaN  NaN  NaN  NaN\n",
            "6                0   NaN  NaN    NaN    NaN  ...   NaN  NaN  NaN  NaN  NaN\n",
            "7                4   NaN  NaN    NaN    NaN  ...   NaN  NaN  NaN  NaN  NaN\n",
            "8                4   NaN  NaN    NaN    NaN  ...   NaN  NaN  NaN  NaN  NaN\n",
            "9                4   NaN  NaN    NaN    NaN  ...   NaN  NaN  NaN  NaN  NaN\n",
            "10               4   NaN  NaN    NaN    NaN  ...   NaN  NaN  NaN  NaN  NaN\n",
            "11               0   3.0  NaN    NaN    NaN  ...   NaN  NaN  NaN  NaN  NaN\n",
            "12               0   3.0  NaN    NaN    NaN  ...   NaN  NaN  NaN  NaN  NaN\n",
            "13               0   3.0  NaN    NaN    NaN  ...   NaN  NaN  NaN  NaN  NaN\n",
            "14               0   NaN  NaN    NaN    NaN  ...   NaN  NaN  NaN  NaN  NaN\n",
            "15               0   3.0  NaN    NaN    NaN  ...   NaN  NaN  NaN  NaN  NaN\n",
            "16               0   NaN  NaN    NaN    NaN  ...   NaN  NaN  NaN  NaN  NaN\n",
            "17               1   NaN  NaN    NaN    NaN  ...   NaN  NaN  NaN  NaN  NaN\n",
            "18               1   4.0  NaN    NaN    NaN  ...   NaN  NaN  NaN  NaN  NaN\n",
            "19               1   NaN  NaN    NaN    NaN  ...   NaN  NaN  NaN  NaN  NaN\n",
            "20               1   NaN  NaN    NaN    NaN  ...   NaN  NaN  NaN  NaN  NaN\n",
            "21               0   NaN  NaN    NaN    NaN  ...   NaN  NaN  NaN  NaN  NaN\n",
            "22               0   NaN  NaN    NaN    NaN  ...   NaN  NaN  NaN  NaN  NaN\n",
            "23               0   NaN  NaN    NaN    NaN  ...   NaN  NaN  NaN  NaN  NaN\n",
            "24               0   NaN  NaN    NaN    NaN  ...   NaN  NaN  NaN  NaN  NaN\n",
            "25               1   NaN  NaN    NaN    NaN  ...   NaN  NaN  NaN  NaN  NaN\n",
            "26   Porsche 914-2  26.0  4.0  120.3   91.0  ...  16.7  0.0  1.0  5.0  2.0\n",
            "27               1   NaN  NaN    NaN    NaN  ...   NaN  NaN  NaN  NaN  NaN\n",
            "28  Ford Pantera L  15.8  8.0  351.0  264.0  ...  14.5  0.0  1.0  5.0  4.0\n",
            "29               6   NaN  NaN    NaN    NaN  ...   NaN  NaN  NaN  NaN  NaN\n",
            "30               8   NaN  NaN    NaN    NaN  ...   NaN  NaN  NaN  NaN  NaN\n",
            "31               1   4.0  NaN    NaN    NaN  ...   NaN  NaN  NaN  NaN  NaN\n",
            "\n",
            "[32 rows x 12 columns]\n"
          ]
        },
        {
          "output_type": "stream",
          "name": "stderr",
          "text": [
            "/usr/local/lib/python3.7/dist-packages/ipykernel_launcher.py:9: FutureWarning: Dropping of nuisance columns in DataFrame reductions (with 'numeric_only=None') is deprecated; in a future version this will raise TypeError.  Select only valid columns before calling the reduction.\n",
            "  if __name__ == '__main__':\n",
            "/usr/local/lib/python3.7/dist-packages/pandas/core/algorithms.py:969: UserWarning: Unable to sort modes: '<' not supported between instances of 'float' and 'str'\n",
            "  warn(f\"Unable to sort modes: {err}\")\n"
          ]
        }
      ]
    }
  ]
}